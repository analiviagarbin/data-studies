{
 "cells": [
  {
   "cell_type": "markdown",
   "metadata": {},
   "source": [
    "Exploring source data"
   ]
  },
  {
   "cell_type": "code",
   "execution_count": 17,
   "metadata": {},
   "outputs": [],
   "source": [
    "# dependencies\n",
    "\n",
    "import json, csv"
   ]
  },
  {
   "cell_type": "code",
   "execution_count": 18,
   "metadata": {},
   "outputs": [],
   "source": [
    "# locating the data files\n",
    "\n",
    "path_json = '../data_raw/data_companyA.json'\n",
    "path_csv = '../data_raw/data_companyB.csv'"
   ]
  },
  {
   "cell_type": "code",
   "execution_count": 19,
   "metadata": {},
   "outputs": [],
   "source": [
    "# loading data from .json to the variable\n",
    "\n",
    "with open(path_json, 'r') as file:\n",
    "    json_data = json.load(file)"
   ]
  },
  {
   "cell_type": "code",
   "execution_count": 20,
   "metadata": {},
   "outputs": [],
   "source": [
    "# loading data from .csv to the variable\n",
    "\n",
    "csv_data = []\n",
    "\n",
    "with open(path_csv, 'r') as file:\n",
    "    # csv reading tool\n",
    "    spamreader = csv.DictReader(file, delimiter=',')\n",
    "\n",
    "    for row in spamreader:\n",
    "        csv_data.append(row)"
   ]
  },
  {
   "cell_type": "code",
   "execution_count": 21,
   "metadata": {},
   "outputs": [],
   "source": [
    "# listing dictionary indexes\n",
    "\n",
    "c_names_json = list(json_data[0].keys())\n",
    "c_names_csv = list(csv_data[0].keys())"
   ]
  },
  {
   "cell_type": "code",
   "execution_count": 22,
   "metadata": {},
   "outputs": [],
   "source": [
    "# mapping the new default DB naming\n",
    "\n",
    "key_mapping = {\n",
    "    'Nome do Item': 'Nome do Produto',\n",
    "    'Classificação do Produto': 'Categoria do Produto',\n",
    "    'Valor em Reais (R$)': 'Preço do Produto (R$)',\n",
    "    'Quantidade em Estoque': 'Quantidade em Estoque',\n",
    "    'Nome da Loja': 'Filial',\n",
    "    'Data da Venda': 'Data da Venda'\n",
    "}"
   ]
  },
  {
   "cell_type": "code",
   "execution_count": 23,
   "metadata": {},
   "outputs": [],
   "source": [
    "# iterating through csv data converting index names\n",
    "\n",
    "new_data_csv = []\n",
    "\n",
    "for old_dict in csv_data:\n",
    "    dict_temp = {}\n",
    "    for old_k, value in old_dict.items():\n",
    "        dict_temp[key_mapping[old_k]] = value\n",
    "    new_data_csv.append(dict_temp)"
   ]
  },
  {
   "cell_type": "code",
   "execution_count": 24,
   "metadata": {},
   "outputs": [
    {
     "data": {
      "text/plain": [
       "4446"
      ]
     },
     "execution_count": 24,
     "metadata": {},
     "output_type": "execute_result"
    }
   ],
   "source": [
    "len(json_data) + len(new_data_csv)"
   ]
  },
  {
   "cell_type": "code",
   "execution_count": 25,
   "metadata": {},
   "outputs": [],
   "source": [
    "# joining databases\n",
    "\n",
    "combined_list = []\n",
    "\n",
    "combined_list.extend(json_data)\n",
    "combined_list.extend(new_data_csv)"
   ]
  },
  {
   "cell_type": "code",
   "execution_count": 26,
   "metadata": {},
   "outputs": [
    {
     "data": {
      "text/plain": [
       "['Nome do Produto',\n",
       " 'Categoria do Produto',\n",
       " 'Preço do Produto (R$)',\n",
       " 'Quantidade em Estoque',\n",
       " 'Filial',\n",
       " 'Data da Venda']"
      ]
     },
     "execution_count": 26,
     "metadata": {},
     "output_type": "execute_result"
    }
   ],
   "source": [
    "c_names = list(combined_list[-1].keys())\n",
    "c_names"
   ]
  },
  {
   "cell_type": "code",
   "execution_count": 27,
   "metadata": {},
   "outputs": [],
   "source": [
    "combined_list_table = [c_names]\n",
    "\n",
    "for row in combined_list:\n",
    "    li = []\n",
    "    for c in c_names:\n",
    "        li.append(row.get(c, 'Indisponível'))\n",
    "    combined_list_table.append(li)"
   ]
  },
  {
   "cell_type": "code",
   "execution_count": 29,
   "metadata": {},
   "outputs": [],
   "source": [
    "path_total = '../data_processed/combined_data.csv'\n",
    "\n",
    "with open(path_total, 'w') as file:\n",
    "    writer = csv.writer(file)\n",
    "    writer.writerows(combined_list_table)"
   ]
  }
 ],
 "metadata": {
  "kernelspec": {
   "display_name": ".venv",
   "language": "python",
   "name": "python3"
  },
  "language_info": {
   "codemirror_mode": {
    "name": "ipython",
    "version": 3
   },
   "file_extension": ".py",
   "mimetype": "text/x-python",
   "name": "python",
   "nbconvert_exporter": "python",
   "pygments_lexer": "ipython3",
   "version": "3.10.12"
  }
 },
 "nbformat": 4,
 "nbformat_minor": 2
}
